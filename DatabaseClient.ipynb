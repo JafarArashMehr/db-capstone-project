{
 "cells": [
  {
   "cell_type": "code",
   "execution_count": null,
   "metadata": {},
   "outputs": [],
   "source": [
    "# Task 1\n",
    "# Importing the MySQL Connector/Python\n",
    "import mysql.connector as connector\n",
    "\n",
    "# Establishing connection between Python and MySQL database via connector API\n",
    "connection=connector.connect(\n",
    "                             user=\"root\",\n",
    "                             password=\"mypass#\",\n",
    "                            )\n",
    "\n",
    "# Creating a cursor object to communicate with entire MySQL database\n",
    "cursor = connection.cursor()\n",
    "\n",
    "show_tables_query = \"USE Little_Lemon\" \n",
    "cursor.execute(show_tables_query)"
   ]
  },
  {
   "cell_type": "code",
   "execution_count": null,
   "metadata": {},
   "outputs": [],
   "source": [
    "# Task 2\n",
    "show_tables_query = \"SHOW tables\" \n",
    "cursor.execute(show_tables_query)\n",
    "\n",
    "print(cursor.fetchall())\n",
    "\n",
    "# Task 3\n",
    "joint_query = \"\"\"SELECT CustomerName, CustomerPhone, CustomerEmail\n",
    "               FROM Customer\n",
    "               INNER JOIN orders \n",
    "               ON Customer.CustomerID = orders.CustomerID\n",
    "               WHERE order.OrderPrice > 60 \n",
    "               \"\"\"\n",
    "cursor.execute(joint_query)\n",
    "results = cursor.fetchall()\n",
    "\n",
    "for result in results:\n",
    "    print (result)"
   ]
  }
 ],
 "metadata": {
  "kernelspec": {
   "display_name": "Python 3",
   "language": "python",
   "name": "python3"
  },
  "language_info": {
   "codemirror_mode": {
    "name": "ipython",
    "version": 3
   },
   "file_extension": ".py",
   "mimetype": "text/x-python",
   "name": "python",
   "nbconvert_exporter": "python",
   "pygments_lexer": "ipython3",
   "version": "3.8.5"
  }
 },
 "nbformat": 4,
 "nbformat_minor": 4
}
